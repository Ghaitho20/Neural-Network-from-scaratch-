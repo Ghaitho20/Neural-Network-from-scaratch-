{
 "cells": [
  {
   "cell_type": "code",
   "execution_count": 1,
   "metadata": {},
   "outputs": [],
   "source": [
    "import struct\n",
    "import numpy as np # type: ignore\n",
    "import pandas as pd # type: ignore\n",
    "\n"
   ]
  },
  {
   "cell_type": "code",
   "execution_count": 3,
   "metadata": {},
   "outputs": [
    {
     "data": {
      "text/plain": [
       "(784, 42000)"
      ]
     },
     "execution_count": 3,
     "metadata": {},
     "output_type": "execute_result"
    }
   ],
   "source": [
    "df_train=pd.read_csv('.\\\\train.csv')\n",
    "df_test=pd.read_csv('.\\\\test.csv')\n",
    "X_train=df_train.drop('label',axis=1).values.T\n",
    "y_train=df_train['label'].values\n",
    "X_test=df_test.values.T\n",
    "#y_test=df_test['label'].values\n",
    "X_train=X_train/255.0\n",
    "X_test=X_test/255.0\n",
    "X_train.shape"
   ]
  },
  {
   "cell_type": "code",
   "execution_count": 45,
   "metadata": {},
   "outputs": [],
   "source": [
    "def ReLU(X ,deriv = False):\n",
    "    if (not deriv):\n",
    "        return np.maximum(0,X)\n",
    "    else:\n",
    "        return  np.where(X>0,1,0)\n",
    "\n"
   ]
  },
  {
   "cell_type": "code",
   "execution_count": 46,
   "metadata": {},
   "outputs": [],
   "source": [
    "def Sigmoid(V):\n",
    "    return 1/(1+np.exp(-V))\n"
   ]
  },
  {
   "cell_type": "code",
   "execution_count": 47,
   "metadata": {},
   "outputs": [],
   "source": [
    "def Softmax(V):\n",
    "    # Subtract the maximum value from the input array for numerical stability\n",
    "    exp_V = np.exp(V - np.max(V))\n",
    "    return exp_V / np.sum(exp_V)"
   ]
  },
  {
   "cell_type": "code",
   "execution_count": 48,
   "metadata": {},
   "outputs": [],
   "source": [
    "\n",
    "def weight_bias_initialisation1(parameter_layer,m):\n",
    "    W = np.random.randint(0,51,size = (parameter_layer,m))\n",
    "    b = np.zeros((parameter_layer,1))\n",
    "    return W,b \n",
    "W,b = weight_bias_initialisation1(16,784)\n",
    "    "
   ]
  },
  {
   "cell_type": "code",
   "execution_count": 49,
   "metadata": {},
   "outputs": [],
   "source": [
    "\n",
    "def weight_bias_initialisation( ):\n",
    "    input_dim1 = 784 \n",
    "    output_dim1 = 16\n",
    "    input_dim2 = 16\n",
    "    output_dim2 = 10\n",
    "    limit1 = np.sqrt(6 / (input_dim1 + output_dim1))\n",
    "    W1 = np.random.uniform(-limit1, limit1, (output_dim1, input_dim1))\n",
    "    b1 = np.zeros((output_dim1, 1))\n",
    "    limit2 = np.sqrt(6 / (input_dim2 + output_dim2))\n",
    "    W2 = np.random.uniform(-limit2, limit2, (output_dim2, input_dim2))\n",
    "    b2 = np.zeros((output_dim2, 1))\n",
    "    return W1,b1,W2,b2\n",
    "#understood everything(its a known intialisation method)\n",
    "W1,b1,W2,b2 = weight_bias_initialisation()\n"
   ]
  },
  {
   "cell_type": "code",
   "execution_count": 63,
   "metadata": {},
   "outputs": [],
   "source": [
    "def one_hot_encoder(y_pred,y_true):\n",
    "    y=np.zeros((y_pred.shape))\n",
    "    y[y_true][0] = 1\n",
    "    return y\n",
    "\n",
    "\n",
    "\n"
   ]
  },
  {
   "cell_type": "code",
   "execution_count": 64,
   "metadata": {},
   "outputs": [],
   "source": [
    "def back_prop(y_pred,y_true,A1,Z1,W2,X):\n",
    "\n",
    "    X=X.reshape(784,1)\n",
    "    y_true=one_hot_encoder(y_pred,y_true)# shape y_true=(10,1) \n",
    "    dZ2=(y_pred-y_true)#shape dZ2= (10,1)\n",
    "    dW2=np.dot(dZ2,A1.T)#shape A1=(16,1), dW2 = (10,16)\n",
    "    dB2 = dZ2  # shape dB2 = (10, 1)\n",
    "    dZ1 = np.dot(W2.T,dZ2)*ReLU(Z1,deriv=True)#shape  Z1=(16,1)\n",
    "    dW1 = np.dot(dZ1,X.T) #shape X = (784,1)\n",
    "    dB1 = dZ1 # shape dB1 = (16, 1)\n",
    "    return dW2,dB2,dW1,dB1 \n"
   ]
  },
  {
   "cell_type": "code",
   "execution_count": 65,
   "metadata": {},
   "outputs": [],
   "source": [
    "\n",
    "\n",
    "def forward_prop(X,W1,b1,W2,b2):\n",
    "    X=X.reshape(784,1)\n",
    "    Z1 = W1.dot(X) + b1\n",
    "    A1 = ReLU(Z1)\n",
    "    Z2 = W2.dot(A1) + b2\n",
    "    A2 = Softmax(Z2)\n",
    "    return Z1, A1, Z2, A2\n"
   ]
  },
  {
   "cell_type": "code",
   "execution_count": 66,
   "metadata": {},
   "outputs": [],
   "source": [
    "def update_params(W1,b1,W2,b2,dW1,db1,dW2,db2,alpha):\n",
    "    W1=W1-alpha*dW1\n",
    "    b1=b1-alpha*db1\n",
    "    W2=W2-alpha*dW2\n",
    "    b2=b2-alpha*db2\n",
    "    return W1,b1,W2,b2\n"
   ]
  },
  {
   "cell_type": "code",
   "execution_count": 67,
   "metadata": {},
   "outputs": [],
   "source": [
    "def gradient_descent(X,Y,alpha):\n",
    "     W1,b1,W2,b2=weight_bias_initialisation()\n",
    "     #for epoch in range (100):\n",
    "     for x,y in zip(X.T,Y):\n",
    "          Z1, A1, Z2, A2 = forward_prop(x,W1,b1,W2,b2)\n",
    "          dW2,db2,dW1,db1 = back_prop(A2,y,A1,Z1,W2,x)\n",
    "          W1,b1,W2,b2 = update_params(W1,b1,W2,b2,dW1,db1,dW2,db2,alpha)\n",
    "     return W1,b1,W2,b2  \n",
    "\n",
    "\n",
    "    "
   ]
  },
  {
   "cell_type": "code",
   "execution_count": 68,
   "metadata": {},
   "outputs": [],
   "source": [
    "import matplotlib.pyplot as plt\n",
    "def predict (X,W1,b1,W2,b2):\n",
    "     i=0\n",
    "     c=0\n",
    "     acc = 0\n",
    "     L = []\n",
    "     for x in X.T : \n",
    "          Z1, A1, Z2, A2 = forward_prop(x,W1,b1,W2,b2)\n",
    "          num = np.argmax(A2)\n",
    "          #x=x.reshape(784,1)\n",
    "     \n",
    "          \n",
    "          #num = np.argmax(A2)\n",
    "          L.append(num)\n",
    "          #if (num==y):\n",
    "             #  c= c+1\n",
    "          #i= i+1\n",
    "         # acc = c/i\n",
    "          \n",
    "     #print(\"accuaracy is\",acc)\n",
    "     return L\n",
    "\n"
   ]
  },
  {
   "cell_type": "code",
   "execution_count": 71,
   "metadata": {},
   "outputs": [],
   "source": [
    "import pandas\n",
    "W1,b1,W2,b2=gradient_descent(X_train,y_train,0.01)\n",
    "prediction=predict(X_test,W1,b1,W2,b2)\n",
    "prediction = np.array(prediction)\n",
    "\n",
    "submission = pd.DataFrame({\n",
    "    'ImageId':range(1, len(prediction) + 1),\n",
    "    'label': prediction\n",
    "\n",
    "})\n",
    "# Save to CSV\n",
    "submission.to_csv('submission2.csv', index=False)\n",
    "    \n",
    "\n"
   ]
  },
  {
   "cell_type": "code",
   "execution_count": null,
   "metadata": {},
   "outputs": [],
   "source": []
  },
  {
   "cell_type": "code",
   "execution_count": null,
   "metadata": {},
   "outputs": [],
   "source": []
  }
 ],
 "metadata": {
  "kernelspec": {
   "display_name": "myenv",
   "language": "python",
   "name": "python3"
  },
  "language_info": {
   "codemirror_mode": {
    "name": "ipython",
    "version": 3
   },
   "file_extension": ".py",
   "mimetype": "text/x-python",
   "name": "python",
   "nbconvert_exporter": "python",
   "pygments_lexer": "ipython3",
   "version": "3.12.2"
  }
 },
 "nbformat": 4,
 "nbformat_minor": 2
}
